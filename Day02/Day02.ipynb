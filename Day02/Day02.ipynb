{
 "cells": [
  {
   "cell_type": "code",
   "execution_count": 18,
   "metadata": {},
   "outputs": [
    {
     "name": "stdout",
     "output_type": "stream",
     "text": [
      "A Z\n",
      "True\n",
      "11475\n",
      "16862\n",
      "11475\n",
      "16862\n"
     ]
    }
   ],
   "source": [
    "import numpy as np\n",
    "\n",
    "with open('/Users/Philipp/Desktop/AoC2022/Day02/Input.txt', 'r') as f:\n",
    "    game = [x.split('\\n') for x in f.read().split('\\n\\n')][0]\n",
    "    \n",
    "# print(game)\n",
    "print(game[0])\n",
    "print(game[0][2]=='Z')\n",
    "\n",
    "# Part 1\n",
    "score = 0\n",
    "\n",
    "for idx_game in np.arange(len(game)):\n",
    "    if game[idx_game][2]=='X': # rock\n",
    "        score += 1\n",
    "        if game[idx_game][0]=='C': # scissors\n",
    "            score += 6\n",
    "        elif game[idx_game][0]=='A': # rock\n",
    "            score += 3\n",
    "    elif game[idx_game][2]=='Y': # paper\n",
    "        score += 2\n",
    "        if game[idx_game][0]=='A': # rock\n",
    "            score += 6\n",
    "        elif game[idx_game][0]=='B': # paper\n",
    "            score += 3\n",
    "    elif game[idx_game][2]=='Z': # scissors\n",
    "        score += 3\n",
    "        if game[idx_game][0]=='B': # paper\n",
    "            score += 6\n",
    "        elif game[idx_game][0]=='C': # scissors\n",
    "            score += 3\n",
    "            \n",
    "print(score)\n",
    "\n",
    "# Part 2\n",
    "score = 0\n",
    "\n",
    "for idx_game in np.arange(len(game)):\n",
    "    if game[idx_game][2]=='X': # lose\n",
    "        if game[idx_game][0]=='A': # rock\n",
    "            score += 3 # choose scissors\n",
    "        elif game[idx_game][0]=='B': # paper\n",
    "            score += 1 # choose rock\n",
    "        elif game[idx_game][0]=='C': # scissors\n",
    "            score += 2 # choose paper\n",
    "    elif game[idx_game][2]=='Y': # draw\n",
    "        if game[idx_game][0]=='A': # rock\n",
    "            score += 1 + 3 # choose rock\n",
    "        elif game[idx_game][0]=='B': # paper\n",
    "            score += 2 + 3 # choose paper\n",
    "        elif game[idx_game][0]=='C': # scissors\n",
    "            score += 3 + 3 # choose scissors\n",
    "    elif game[idx_game][2]=='Z': # win\n",
    "        if game[idx_game][0]=='A': # rock\n",
    "            score += 2 + 6 # choose paper\n",
    "        elif game[idx_game][0]=='B': # paper\n",
    "            score += 3 + 6 # choose scissor\n",
    "        elif game[idx_game][0]=='C': # scissors\n",
    "            score += 1 + 6 # choose rock\n",
    "            \n",
    "print(score)\n",
    "\n",
    "# fast - based on https://www.reddit.com/r/adventofcode/comments/zac2v2/2022_day_2_solutions/\n",
    "f = open('/Users/Philipp/Desktop/AoC2022/Day02/Input.txt', \"r\")\n",
    "DATA = [move.strip().replace(\" \", \"\") for move in f.readlines()]\n",
    "STRAT_GUIDE_1 = {'AX': 4, 'AY': 8, 'AZ': 3, 'BX': 1, 'BY': 5, 'BZ': 9, 'CX': 7, 'CY': 2, 'CZ': 6}\n",
    "STRAT_GUIDE_2 = {'AX': 3, 'AY': 4, 'AZ': 8, 'BX': 1, 'BY': 5, 'BZ': 9, 'CX': 2, 'CY': 6, 'CZ': 7}\n",
    "print(sum([STRAT_GUIDE_1[pair] for pair in DATA]))\n",
    "print(sum([STRAT_GUIDE_2[pair] for pair in DATA]))"
   ]
  }
 ],
 "metadata": {
  "kernelspec": {
   "display_name": "Python 3.8.8",
   "language": "python",
   "name": "python3"
  },
  "language_info": {
   "codemirror_mode": {
    "name": "ipython",
    "version": 3
   },
   "file_extension": ".py",
   "mimetype": "text/x-python",
   "name": "python",
   "nbconvert_exporter": "python",
   "pygments_lexer": "ipython3",
   "version": "3.8.8"
  },
  "orig_nbformat": 4,
  "vscode": {
   "interpreter": {
    "hash": "ff19b7a98b651c5679fce7986908e9727784d57989484b258b42ef3648dfbd10"
   }
  }
 },
 "nbformat": 4,
 "nbformat_minor": 2
}
