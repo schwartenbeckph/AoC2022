{
 "cells": [
  {
   "cell_type": "code",
   "execution_count": 2,
   "metadata": {},
   "outputs": [
    {
     "name": "stdout",
     "output_type": "stream",
     "text": [
      "69912\n",
      "208180\n"
     ]
    }
   ],
   "source": [
    "import numpy as np\n",
    "\n",
    "with open('/Users/Philipp/Desktop/AoC2022/Day01/Input.txt', 'r') as f:\n",
    "    elves = [x.split('\\n') for x in f.read().split(\"\\n\\n\")]\n",
    "    \n",
    "sum_cal = []\n",
    "for idx_elf in np.arange(len(elves)):  \n",
    "    cal_elf = elves[idx_elf]\n",
    "    sum = 0\n",
    "    for idx_item in np.arange(len(cal_elf)):\n",
    "        sum += int(cal_elf[idx_item])\n",
    "    sum_cal.append(sum)\n",
    "\n",
    "# Part 1\n",
    "print(max(sum_cal))\n",
    "\n",
    "# Part 2\n",
    "print(np.sum(np.sort(sum_cal)[-3:]))\n",
    "\n",
    "\n",
    "# concise solution taken from https://www.reddit.com/r/adventofcode/comments/z9ezjb/2022_day_1_solutions/:\n",
    "# import sys\n",
    "\n",
    "# with open(sys.argv[1], 'r') as f:\n",
    "#     elves = [x.split('\\n') for x in f.read().split(\"\\n\\n\")]\n",
    "\n",
    "# cals = sorted([sum([int(x) for x in y if x.isdigit()]) for y in elves])\n",
    "\n",
    "# print(max(cals))\n",
    "# print(sum(cals[-3:]))"
   ]
  }
 ],
 "metadata": {
  "kernelspec": {
   "display_name": "Python 3.8.8",
   "language": "python",
   "name": "python3"
  },
  "language_info": {
   "codemirror_mode": {
    "name": "ipython",
    "version": 3
   },
   "file_extension": ".py",
   "mimetype": "text/x-python",
   "name": "python",
   "nbconvert_exporter": "python",
   "pygments_lexer": "ipython3",
   "version": "3.8.8"
  },
  "orig_nbformat": 4,
  "vscode": {
   "interpreter": {
    "hash": "ff19b7a98b651c5679fce7986908e9727784d57989484b258b42ef3648dfbd10"
   }
  }
 },
 "nbformat": 4,
 "nbformat_minor": 2
}
