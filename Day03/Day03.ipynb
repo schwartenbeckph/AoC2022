{
 "cells": [
  {
   "cell_type": "code",
   "execution_count": 2,
   "metadata": {},
   "outputs": [
    {
     "name": "stdout",
     "output_type": "stream",
     "text": [
      "[7967]\n",
      "[2716]\n",
      "7967\n"
     ]
    }
   ],
   "source": [
    "import numpy as np\n",
    "\n",
    "with open('/Users/Philipp/Desktop/AoC2022/Day03/Input.txt', 'r') as f:\n",
    "    bag = [x.split('\\n') for x in f.read().split('\\n\\n')][0]\n",
    "    \n",
    "# print(bag)\n",
    "\n",
    "# Part 1\n",
    "priority_def = np.array(['a','b','c','d','e','f','g','h','i','j','k','l','m','n','o','p','q','r','s','t','u','v','w','x','y','z',\n",
    "                         'A','B','C','D','E','F','G','H','I','J','K','L','M','N','O','P','Q','R','S','T','U','V','W','X','Y','Z'])\n",
    "\n",
    "sum = 0\n",
    "for idx_bag in np.arange(len(bag)):\n",
    "# for idx_bag in [0]:\n",
    "    bag_use = bag[idx_bag]\n",
    "    total_len = len(bag_use)\n",
    "    first_half  = bag_use[0:int(total_len/2)]\n",
    "    second_half = bag_use[int(total_len/2):]\n",
    "    # print(first_half)\n",
    "    # print(second_half)\n",
    "    \n",
    "    # taken from https://www.geeksforgeeks.org/python-intersection-of-two-string/\n",
    "    res = ''.join(sorted(set(first_half) & set(second_half), key = first_half.index))\n",
    "    # print(res[0])\n",
    "    # print(res=='Q')\n",
    "    # print(res=='q')\n",
    "    \n",
    "    priority_use = np.where(res==priority_def)[0]\n",
    "    sum += priority_use+1\n",
    "    \n",
    "print(sum)\n",
    "\n",
    "# Part 2\n",
    "sum = 0\n",
    "for idx_bag in np.arange(0,len(bag)-2,3):\n",
    "# for idx_bag in [0]:\n",
    "    bag_use_1 = bag[idx_bag]\n",
    "    bag_use_2 = bag[idx_bag+1]\n",
    "    bag_use_3 = bag[idx_bag+2]\n",
    "    \n",
    "    # taken from https://www.geeksforgeeks.org/python-intersection-of-two-string/\n",
    "    res = ''.join(sorted(set(bag_use_1) & set(bag_use_2) & set(bag_use_3), key = bag_use_1.index))\n",
    "    \n",
    "    priority_use = np.where(res==priority_def)[0]\n",
    "    sum += priority_use+1\n",
    "    \n",
    "print(sum)\n",
    "\n",
    "# Short, from https://www.reddit.com/r/adventofcode/comments/zb865p/2022_day_3_solutions/\n",
    "lines = open(\"/Users/Philipp/Desktop/AoC2022/Day03/Input.txt\").read().split()\n",
    "rucksacks = [[line[:len(line) // 2], line[len(line) // 2:]] for line in lines]\n",
    "\n",
    "priorities = []\n",
    "for rucksack in rucksacks:\n",
    "    item = [(lambda x: (ord(x) - 38) if x.isupper() else (ord(x) - 96))(item) for item in rucksack[0] if item in rucksack[1]][0]\n",
    "    priorities.append(item)\n",
    "\n",
    "print(np.sum(priorities))"
   ]
  }
 ],
 "metadata": {
  "kernelspec": {
   "display_name": "Python 3.8.8",
   "language": "python",
   "name": "python3"
  },
  "language_info": {
   "codemirror_mode": {
    "name": "ipython",
    "version": 3
   },
   "file_extension": ".py",
   "mimetype": "text/x-python",
   "name": "python",
   "nbconvert_exporter": "python",
   "pygments_lexer": "ipython3",
   "version": "3.8.8"
  },
  "orig_nbformat": 4,
  "vscode": {
   "interpreter": {
    "hash": "ff19b7a98b651c5679fce7986908e9727784d57989484b258b42ef3648dfbd10"
   }
  }
 },
 "nbformat": 4,
 "nbformat_minor": 2
}
