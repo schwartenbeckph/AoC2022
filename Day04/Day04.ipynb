{
 "cells": [
  {
   "cell_type": "code",
   "execution_count": 17,
   "metadata": {},
   "outputs": [
    {
     "name": "stdout",
     "output_type": "stream",
     "text": [
      "496\n",
      "847\n"
     ]
    }
   ],
   "source": [
    "import numpy as np\n",
    "\n",
    "with open('/Users/Philipp/Desktop/AoC2022/Day04/Input.txt', 'r') as f:\n",
    "    pairs = [x.split('\\n') for x in f.read().split('\\n\\n')][0]\n",
    "    \n",
    "# print(pairs)\n",
    "\n",
    "# Part 1\n",
    "sum = 0\n",
    "for idx_pair in np.arange(len(pairs)):\n",
    "# for idx_pair in [0]:\n",
    "    pair_use = pairs[idx_pair].split(',')\n",
    "    \n",
    "    pair_1 = pair_use[0]\n",
    "    pair_2 = pair_use[1]\n",
    "    \n",
    "    pair_1_start = int(pair_1.split('-')[0])\n",
    "    pair_1_end = int(pair_1.split('-')[1])\n",
    "    \n",
    "    pair_2_start = int(pair_2.split('-')[0])\n",
    "    pair_2_end = int(pair_2.split('-')[1])\n",
    "    \n",
    "    if ((pair_1_start<=pair_2_start and pair_2_end<=pair_1_end) or\n",
    "        (pair_2_start<=pair_1_start and pair_1_end<=pair_2_end)):\n",
    "        sum += 1\n",
    "    \n",
    "print(sum)\n",
    "\n",
    "# Part 2\n",
    "sum = 0\n",
    "for idx_pair in np.arange(len(pairs)):\n",
    "# for idx_pair in [0]:\n",
    "    pair_use = pairs[idx_pair].split(',')\n",
    "    \n",
    "    pair_1 = pair_use[0]\n",
    "    pair_2 = pair_use[1]\n",
    "    \n",
    "    pair_1_start = int(pair_1.split('-')[0])\n",
    "    pair_1_end = int(pair_1.split('-')[1])\n",
    "    \n",
    "    pair_2_start = int(pair_2.split('-')[0])\n",
    "    pair_2_end = int(pair_2.split('-')[1])\n",
    "    \n",
    "    if ((pair_2_start<=pair_1_end and pair_1_end<=pair_2_end) or\n",
    "        (pair_1_start<=pair_2_end and pair_2_end<=pair_1_end)):\n",
    "        sum += 1\n",
    "    \n",
    "print(sum)\n",
    "\n",
    "# Short, from https://github.com/r0f1/adventofcode2022/blob/master/day04/main.py:\n",
    "with open(\"input.txt\") as f:\n",
    "    lines = [[[int(i) for i in k.split(\"-\")] for k in x.split(\",\")] for x in f]\n",
    "\n",
    "print(sum(a <= c <= d <= b or c <= a <= b <= d for (a,b), (c,d) in lines))\n",
    "print(sum(a <= d and b >= c for (a,b), (c,d) in lines))"
   ]
  }
 ],
 "metadata": {
  "kernelspec": {
   "display_name": "Python 3.8.8",
   "language": "python",
   "name": "python3"
  },
  "language_info": {
   "codemirror_mode": {
    "name": "ipython",
    "version": 3
   },
   "file_extension": ".py",
   "mimetype": "text/x-python",
   "name": "python",
   "nbconvert_exporter": "python",
   "pygments_lexer": "ipython3",
   "version": "3.8.8"
  },
  "orig_nbformat": 4,
  "vscode": {
   "interpreter": {
    "hash": "ff19b7a98b651c5679fce7986908e9727784d57989484b258b42ef3648dfbd10"
   }
  }
 },
 "nbformat": 4,
 "nbformat_minor": 2
}
